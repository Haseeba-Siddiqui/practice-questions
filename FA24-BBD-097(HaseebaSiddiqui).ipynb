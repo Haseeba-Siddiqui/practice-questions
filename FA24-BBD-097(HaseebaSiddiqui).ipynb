{
 "cells": [
  {
   "cell_type": "code",
   "execution_count": 1,
   "id": "5bb11867-a8db-4bd2-8e2a-33e06eaa3aa4",
   "metadata": {},
   "outputs": [
    {
     "name": "stdout",
     "output_type": "stream",
     "text": [
      "Hello, Haseeba siddiqui! The current time is 22:52:32.942744.\n"
     ]
    }
   ],
   "source": [
    "# Question 1: Simple Function\n",
    "from datetime import datetime\n",
    "\n",
    "def greet_with_time(name):\n",
    "    current_time = datetime.now().time()\n",
    "    print(f\"Hello, {name}! The current time is {current_time}.\")\n",
    "\n",
    "greet_with_time(\"Haseeba siddiqui\")\n",
    "# Expected Output: Hello, haseeba siddiqui! The current time is <current_time>"
   ]
  },
  {
   "cell_type": "code",
   "execution_count": 3,
   "id": "6b78892b-50a9-4712-a251-2790eb94c966",
   "metadata": {},
   "outputs": [
    {
     "name": "stdout",
     "output_type": "stream",
     "text": [
      "20.0\n"
     ]
    }
   ],
   "source": [
    "# Question 2: Function with Multiple Parameters\n",
    "def calculate_average(num1, num2, num3):\n",
    "    return (num1 + num2 + num3) / 3\n",
    "\n",
    "average = calculate_average(10, 20, 30)\n",
    "print(average)  # Expected Output: 20.0"
   ]
  },
  {
   "cell_type": "code",
   "execution_count": 7,
   "id": "0b041627-6ab4-41de-8c9d-b63c7191a4fb",
   "metadata": {},
   "outputs": [
    {
     "name": "stdout",
     "output_type": "stream",
     "text": [
      "Name: haseeba siddiqui, Age: 18, City: Lahore\n"
     ]
    }
   ],
   "source": [
    "# Question 3: Keyword Arguments\n",
    "def print_info(name, age, city):\n",
    "    print(f\"Name: {name}, Age: {age}, City: {city}\")\n",
    "\n",
    "# Example usage\n",
    "print_info(name=\"haseeba siddiqui\", age=18, city=\"Lahore\")\n",
    "# Expected Output: Name: haseeba siddiqui, Age: 18, City: Lahore"
   ]
  },
  {
   "cell_type": "code",
   "execution_count": 9,
   "id": "233326a6-901f-4f50-9d9e-d9fe28a23f79",
   "metadata": {},
   "outputs": [
    {
     "name": "stdout",
     "output_type": "stream",
     "text": [
      "100\n"
     ]
    }
   ],
   "source": [
    "# Question 4: Variable-Length Arguments\n",
    "def find_max(numbers):\n",
    "    return max(numbers)\n",
    "\n",
    "# Example usage\n",
    "maximum = find_max([10, 20, 30, 5, 100])\n",
    "print(maximum)  # Expected Output: 100\n"
   ]
  },
  {
   "cell_type": "code",
   "execution_count": 11,
   "id": "c69b2124-a7f1-4ef5-9398-2dcb673133d5",
   "metadata": {},
   "outputs": [
    {
     "name": "stdout",
     "output_type": "stream",
     "text": [
      "120\n"
     ]
    }
   ],
   "source": [
    "# Question 5: Recursive Function\n",
    "def factorial(n):\n",
    "    if n == 0 or n == 1:  # Base case\n",
    "        return 1\n",
    "    else:\n",
    "        return n * factorial(n - 1)  # Recursive case\n",
    "\n",
    "# Example usage\n",
    "result = factorial(5)\n",
    "print(result)  # Expected Output: 120\n"
   ]
  },
  {
   "cell_type": "code",
   "execution_count": 13,
   "id": "7e5db817-c92b-4e88-9c35-eaa45ba8d0c1",
   "metadata": {},
   "outputs": [
    {
     "name": "stdout",
     "output_type": "stream",
     "text": [
      "[2, 4, 6, 8]\n"
     ]
    }
   ],
   "source": [
    "# Question 6: Function as an Argument\n",
    "def apply_function(func, numbers):\n",
    "    return [func(num) for num in numbers]\n",
    "\n",
    "# Example usage\n",
    "result = apply_function(lambda x: x * 2, [1, 2, 3, 4])\n",
    "print(result)  # Expected Output: [2, 4, 6, 8]"
   ]
  },
  {
   "cell_type": "code",
   "execution_count": 15,
   "id": "6b0e793c-3321-4738-ad06-b089321cf367",
   "metadata": {},
   "outputs": [
    {
     "name": "stdout",
     "output_type": "stream",
     "text": [
      "25\n"
     ]
    }
   ],
   "source": [
    "# Question 7: Lambda Function\n",
    "square = lambda x: x ** 2\n",
    "\n",
    "# Example usage\n",
    "result = square(5)\n",
    "print(result)  # Expected Output: 25"
   ]
  },
  {
   "cell_type": "code",
   "execution_count": 17,
   "id": "6fb7b507-efa6-4938-8100-d849a8e9e8d9",
   "metadata": {},
   "outputs": [
    {
     "name": "stdout",
     "output_type": "stream",
     "text": [
      "[1, 4, 9, 16]\n"
     ]
    }
   ],
   "source": [
    "# Question 8: Higher-Order Function\n",
    "def apply_operation(func, numbers):\n",
    "    return [func(num) for num in numbers]\n",
    "\n",
    "# Example usage\n",
    "result = apply_operation(lambda x: x ** 2, [1, 2, 3, 4])\n",
    "print(result)  # Expected Output: [1, 4, 9, 16]\n"
   ]
  },
  {
   "cell_type": "code",
   "execution_count": 21,
   "id": "9526fe10-ee96-47e8-bdad-5b182c3f27bf",
   "metadata": {},
   "outputs": [
    {
     "name": "stdout",
     "output_type": "stream",
     "text": [
      "Execution time: 2.0011 seconds\n"
     ]
    }
   ],
   "source": [
    "# Question 9: Function Decorators\n",
    "import time\n",
    "\n",
    "def measure_time(func):\n",
    "    def wrapper():\n",
    "        start_time = time.time()\n",
    "        func()  # Call the original function\n",
    "        end_time = time.time()\n",
    "        print(f\"Execution time: {end_time - start_time:.4f} seconds\")\n",
    "    return wrapper\n",
    "\n",
    "def say_hello():\n",
    "    time.sleep(2)  # Simulating a delay of 2 seconds\n",
    "\n",
    "# Applying the decorator manually\n",
    "say_hello = measure_time(say_hello)\n",
    "\n",
    "say_hello()\n",
    "# Expected Output: Execution time: 2.0010 seconds (approximately)"
   ]
  }
 ],
 "metadata": {
  "kernelspec": {
   "display_name": "Python 3 (ipykernel)",
   "language": "python",
   "name": "python3"
  },
  "language_info": {
   "codemirror_mode": {
    "name": "ipython",
    "version": 3
   },
   "file_extension": ".py",
   "mimetype": "text/x-python",
   "name": "python",
   "nbconvert_exporter": "python",
   "pygments_lexer": "ipython3",
   "version": "3.12.4"
  }
 },
 "nbformat": 4,
 "nbformat_minor": 5
}
